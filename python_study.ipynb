{
  "nbformat": 4,
  "nbformat_minor": 0,
  "metadata": {
    "colab": {
      "name": "python_study.ipynb",
      "provenance": [],
      "authorship_tag": "ABX9TyP5ah/BzqZLBmpuqSsvBn+3",
      "include_colab_link": true
    },
    "kernelspec": {
      "name": "python3",
      "display_name": "Python 3"
    }
  },
  "cells": [
    {
      "cell_type": "markdown",
      "metadata": {
        "id": "view-in-github",
        "colab_type": "text"
      },
      "source": [
        "<a href=\"https://colab.research.google.com/github/omygirl/colab/blob/main/python_study.ipynb\" target=\"_parent\"><img src=\"https://colab.research.google.com/assets/colab-badge.svg\" alt=\"Open In Colab\"/></a>"
      ]
    },
    {
      "cell_type": "code",
      "metadata": {
        "id": "jYe6NnOa7Sdh"
      },
      "source": [
        "print(\"Hello, World!\")\r\n"
      ],
      "execution_count": null,
      "outputs": []
    },
    {
      "cell_type": "code",
      "metadata": {
        "id": "pvgGiBdPGmLv"
      },
      "source": [
        "# <- 한줄주석\r\n",
        "\r\n",
        "\"\"\"\r\n",
        "여러줄 주석\r\n",
        "\"\"\"\r\n",
        "\r\n",
        "identity='지구인'\r\n",
        "number_of_legs=4\r\n",
        "\r\n",
        "print('안녕! 나는 ', identity, '이야. 다리가 ', number_of_legs,'개야!')\r\n",
        "\r\n",
        "identity='한국인'\r\n",
        "number_of_legs=2\r\n",
        "\r\n",
        "print('안녕! 나는 ', identity, '이야. 다리가 ', number_of_legs,'개야!')"
      ],
      "execution_count": null,
      "outputs": []
    },
    {
      "cell_type": "code",
      "metadata": {
        "id": "B7Lwqh2vI5up"
      },
      "source": [
        "# 숫자와 문자열\r\n",
        "my_name = 'Python'  #문자열\r\n",
        "my_age = 25         #숫자\r\n",
        "print(my_name, '은 이제', my_age, '살')\r\n",
        "\r\n",
        "my_next_age = my_age + 1\r\n",
        "print('내년에는', my_next_age, '살')\r\n",
        "\r\n",
        "multiply = 9 * 8  # = 81 곱하기\r\n",
        "divide = 30 / 5 # 나누기\r\n",
        "power = 2 ** 10 # 제곱\r\n",
        "reminder = 15 % 4 # 나머지\r\n",
        "\r\n",
        "print(multiply, divide, power, reminder)\r\n",
        "\r\n",
        "text = '2021' + '1991'\r\n",
        "number = 2021 + 1991\r\n",
        "\r\n",
        "print(text)\r\n",
        "print(number)"
      ],
      "execution_count": null,
      "outputs": []
    },
    {
      "cell_type": "code",
      "metadata": {
        "id": "nXeRvMlpL6KA"
      },
      "source": [
        "# 조건문\r\n",
        "people = 2\r\n",
        "apple = 20\r\n",
        "if people < apple / 5:\r\n",
        "  print('신나는 사과 파티! 배터지게 먹자!')\r\n",
        "if apple % people > 0:\r\n",
        "  print('사과가 모자라! 나눠먹자')\r\n",
        "if people > apple:\r\n",
        "  print('사람이 너무 많아!')\r\n",
        "\r\n",
        "SCISSOR = '가위'\r\n",
        "ROCK = '바위'\r\n",
        "PAPER = '보'\r\n",
        "\r\n",
        "WIN = '이겼다!'\r\n",
        "DRAW = '비겼다.'\r\n",
        "LOSE = '졌다...'\r\n",
        "\r\n",
        "mine = '가위'\r\n",
        "yours = '바위'\r\n",
        "if mine == yours:\r\n",
        "  result = DRAW\r\n",
        "else:\r\n",
        "  if mine == SCISSOR:\r\n",
        "    if yours == ROCK:\r\n",
        "      result = LOSE\r\n",
        "    else:\r\n",
        "      result = WIN\r\n",
        "  else:\r\n",
        "    if mine == ROCK:\r\n",
        "      if yours == PAPER:\r\n",
        "        result = LOSE\r\n",
        "      else:\r\n",
        "        result = WIN\r\n",
        "    else:\r\n",
        "      if mine == PAPER:\r\n",
        "        if yours == SCISSOR:\r\n",
        "          result = LOSE\r\n",
        "        else:\r\n",
        "          result = WIN\r\n",
        "      else:\r\n",
        "        print('이상해요!!')\r\n",
        "\r\n",
        "print(result)\r\n",
        "\r\n",
        "#else와 if를 합친것은 elif\r\n",
        "if mine == yours:\r\n",
        "  result = DRAW\r\n",
        "else:\r\n",
        "  if mine == SCISSOR:\r\n",
        "    if yours == ROCK:\r\n",
        "      result = LOSE\r\n",
        "    else:\r\n",
        "      result = WIN\r\n",
        "  elif mine == ROCK:\r\n",
        "    if yours == PAPER:\r\n",
        "      result = LOSE\r\n",
        "    else:\r\n",
        "      result = WIN\r\n",
        "  elif mine == PAPER:\r\n",
        "      if yours == SCISSOR:\r\n",
        "        result = LOSE\r\n",
        "      else:\r\n",
        "        result = WIN\r\n",
        "  else:\r\n",
        "      print('이상해요!!')\r\n",
        "\r\n",
        "print(result)"
      ],
      "execution_count": null,
      "outputs": []
    },
    {
      "cell_type": "code",
      "metadata": {
        "id": "ewCQQeqZOt2X",
        "outputId": "35267e00-cf5d-4ac9-9bc4-d39c933d0f22",
        "colab": {
          "base_uri": "https://localhost:8080/"
        }
      },
      "source": [
        "# 블럭은 함께 실행되는 하나의 코드 덩어리\r\n",
        "if True:\r\n",
        "  print('블럭에 속한 코드')\r\n",
        "\r\n",
        "  if False:\r\n",
        "    print('한 줄 더(False)')\r\n",
        "\r\n",
        "  if True:\r\n",
        "    print('한 줄 더(True)')\r\n",
        "    if True:\r\n",
        "      print('한 줄 더(True) inner')\r\n",
        "\r\n",
        "  print('블럭 끝 코드')\r\n",
        "\r\n",
        "print('블럭 끝')\r\n",
        "\r\n",
        "# 한블럭이 다른블럭에 포함될 수 있다.\r\n",
        "\r\n",
        "if False:\r\n",
        "  print('조건이 안 맞는 코드')\r\n",
        "\r\n",
        "  if True:\r\n",
        "    print('조건이 맞는 코드')\r\n",
        "\r\n",
        "  print('어쨌튼 실행되지 않는 코드')\r\n",
        "\r\n",
        "print('다시 바깥에 있는 코드')  "
      ],
      "execution_count": 16,
      "outputs": [
        {
          "output_type": "stream",
          "text": [
            "블럭에 속한 코드\n",
            "한 줄 더(True)\n",
            "한 줄 더(True) inner\n",
            "블럭 끝 코드\n",
            "블럭 끝\n",
            "다시 바깥에 있는 코드\n"
          ],
          "name": "stdout"
        }
      ]
    },
    {
      "cell_type": "code",
      "metadata": {
        "id": "5K5MHh0FtE-8"
      },
      "source": [
        "# 함수1\r\n",
        "\r\n",
        "# 근의 공식 a * x^2 + b * X + c = 0, a != 0 인 x에 관한 2차방정식에 대해,\r\n",
        "# 근의 공식은\r\n",
        "def print_sqrt():\r\n",
        "  r1 = (-b + (b ** 2 - 4 * a * c) ** 0.5) / (2 * a)\r\n",
        "  r2 = (-b - (b ** 2 - 4 * a * c) ** 0.5) / (2 * a)\r\n",
        "  print('해는 {} 또는 {}'.format(r1, r2))\r\n",
        "\r\n",
        "a = 1\r\n",
        "b = 2\r\n",
        "c = -8\r\n",
        "print_sqrt()"
      ],
      "execution_count": null,
      "outputs": []
    },
    {
      "cell_type": "code",
      "metadata": {
        "id": "IfcnS3_CF7nF"
      },
      "source": [
        "# 함수2 '():' 으로 만들수 있다.\r\n",
        "\r\n",
        "def function():\r\n",
        "  print(\"안녕, 함수\")\r\n",
        "\r\n",
        "function()"
      ],
      "execution_count": null,
      "outputs": []
    },
    {
      "cell_type": "code",
      "metadata": {
        "id": "HToz3dWGGx0L"
      },
      "source": [
        "# 매개변수\r\n",
        "def print_root(a, b, c):\r\n",
        "  r1 = (-b + (b ** 2 - 4 * a * c) ** 0.5) / (2 * a)\r\n",
        "  r2 = (-b - (b ** 2 - 4 * a * c) ** 0.5) / (2 * a)\r\n",
        "  print('해는 {} 또는 {}'.format(r1, r2))\r\n",
        "\r\n",
        "x = 1\r\n",
        "y = 2\r\n",
        "z = -8\r\n",
        "\r\n",
        "print_root(x, y, z)\r\n",
        "\r\n",
        "def print_round(number):\r\n",
        "  rounded = round(number)\r\n",
        "  print(rounded)\r\n",
        "\r\n",
        "print_round(4.6)"
      ],
      "execution_count": null,
      "outputs": []
    },
    {
      "cell_type": "code",
      "metadata": {
        "id": "DIKYeR21IZlS",
        "outputId": "115483d2-1c4c-43fb-b9b0-68af83129256",
        "colab": {
          "base_uri": "https://localhost:8080/"
        }
      },
      "source": [
        "# 함수\r\n",
        "def add_10(value):\r\n",
        "  result = value + 10\r\n",
        "  return result\r\n",
        "\r\n",
        "n = add_10(42)\r\n",
        "print(n)\r\n",
        "\r\n",
        "# 두값을 리턴하고 싶으면 쉼표로 구분후 리턴하면 됨\r\n",
        "def root(a, b, c):\r\n",
        "  r1 = (-b + (b ** 2 - 4 * a * c) ** 0.5) / (2 * a)\r\n",
        "  r2 = (-b - (b ** 2 - 4 * a * c) ** 0.5) / (2 * a)\r\n",
        "  \r\n",
        "  return r1, r2\r\n",
        "\r\n",
        "x = 1\r\n",
        "y = 2\r\n",
        "z = -8\r\n",
        "\r\n",
        "r1, r2 = root(x, y, z)\r\n",
        "print(\"근은 {} {}\".format(r1, r2))"
      ],
      "execution_count": 30,
      "outputs": [
        {
          "output_type": "stream",
          "text": [
            "52\n",
            "근은 2.0 -4.0\n"
          ],
          "name": "stdout"
        }
      ]
    },
    {
      "cell_type": "code",
      "metadata": {
        "id": "ffkZkvVOJgCb",
        "outputId": "494b6ec0-e905-4d57-f4e7-7d26b4462420",
        "colab": {
          "base_uri": "https://localhost:8080/"
        }
      },
      "source": [
        "# 자료형\r\n",
        "number = 20\r\n",
        "greeting = \"안녕하세요\"\r\n",
        "place = \"문자열 포맷의 세계\"\r\n",
        "welcome = \"환영합니다\"\r\n",
        "\r\n",
        "base = \"{}번 손님, {}. {}에 온신것을 {}!\"\r\n",
        "new_way = base.format(number, greeting, place, welcome)\r\n",
        "\r\n",
        "print(new_way)"
      ],
      "execution_count": 32,
      "outputs": [
        {
          "output_type": "stream",
          "text": [
            "20번 손님, 안녕하세요. 문자열 포맷의 세계에 온신것을 환영합니다!\n"
          ],
          "name": "stdout"
        }
      ]
    },
    {
      "cell_type": "code",
      "metadata": {
        "id": "iCebEieOMIfF",
        "outputId": "c5627b27-c5fd-40ec-cd2a-82b894d969cd",
        "colab": {
          "base_uri": "https://localhost:8080/"
        }
      },
      "source": [
        "# 긴글 문자열은 따옴표 3개 '''\r\n",
        "long_string = '''안녕하세요\r\n",
        "여려줄 따옴표입니다'''\r\n",
        "\r\n",
        "print(long_string)"
      ],
      "execution_count": 33,
      "outputs": [
        {
          "output_type": "stream",
          "text": [
            "안녕하세요\n",
            "여려줄 따옴표입니다\n"
          ],
          "name": "stdout"
        }
      ]
    },
    {
      "cell_type": "code",
      "metadata": {
        "id": "iGywKpU8NOVy",
        "outputId": "03bcec3f-42d1-4b2d-dd80-2ab8eb2bfe97",
        "colab": {
          "base_uri": "https://localhost:8080/"
        }
      },
      "source": [
        "# 정수와 실수\r\n",
        "five1 = 5\r\n",
        "five2 = 5.0\r\n",
        "five3 = 5.00000\r\n",
        "\r\n",
        "print(five1)\r\n",
        "print(five2)\r\n",
        "print(five3)\r\n",
        "\r\n",
        "five4 = 5 * 1\r\n",
        "five5 = 5 * 1.0\r\n",
        "\r\n",
        "print(five4)\r\n",
        "print(five5)\r\n",
        "\r\n",
        "# 나눗셈\r\n",
        "div1 = 6 / 5    # div = 1.2\r\n",
        "div2 = 6 // 5   # div = 1\r\n",
        "print(div1)\r\n",
        "print(div2)\r\n",
        "\r\n",
        "print(int(5.0)) #정수로\r\n",
        "print(float(5)) # 부동소수점으로"
      ],
      "execution_count": 38,
      "outputs": [
        {
          "output_type": "stream",
          "text": [
            "5\n",
            "5.0\n",
            "5.0\n",
            "5\n",
            "5.0\n",
            "1.2\n",
            "1\n",
            "5\n",
            "5.0\n"
          ],
          "name": "stdout"
        }
      ]
    },
    {
      "cell_type": "code",
      "metadata": {
        "id": "vEv_hf1UOh-b",
        "outputId": "45803d89-1fcc-4886-fc12-7ded4c8e370e",
        "colab": {
          "base_uri": "https://localhost:8080/"
        }
      },
      "source": [
        "# 사용자 입력 받기\r\n",
        "print(\"가위 바위 보 하나를 내주세요!\", end = '  ')\r\n",
        "mine = input()\r\n",
        "print(\"mine : {}\".format(mine))\r\n",
        "\r\n",
        "mine = input(\"이곳에서 텍스트를 입력할 수 있어요!\")\r\n",
        "print(\"mine : {}\".format(mine))\r\n",
        "\r\n",
        "# Ctrl + C로 프로그램 즉시 종료가능하다."
      ],
      "execution_count": 45,
      "outputs": [
        {
          "output_type": "stream",
          "text": [
            "가위 바위 보 하나를 내주세요!  ㅇ\n",
            "mine : ㅇ\n",
            "이곳에서 텍스트를 입력할 수 있어요!ㅇ\n",
            "mine : ㅇ\n"
          ],
          "name": "stdout"
        }
      ]
    },
    {
      "cell_type": "code",
      "metadata": {
        "id": "OCKue2U2QjRR",
        "outputId": "d9b56653-c8d0-4992-ff8b-52c6eb660549",
        "colab": {
          "base_uri": "https://localhost:8080/"
        }
      },
      "source": [
        "# 리스트 사용\r\n",
        "list1 = ['가위', '바위', '보']\r\n",
        "list2 = [1, 2, 3, 4, 5, ]\r\n",
        "\r\n",
        "print(list1)\r\n",
        "print(list2)\r\n",
        "\r\n",
        "list1[0] = '다른거'\r\n",
        "print(list1)\r\n",
        "\r\n",
        "# 뒤에서부터 역으로 올수도 있다\r\n",
        "print(list1[-1])\r\n",
        "print(list1[-2])\r\n",
        "\r\n",
        "# 리스트의 활용\r\n",
        "# 리스트에 아이템 하나 더 넣는법\r\n",
        "list2.append(16)\r\n",
        "print(list2)\r\n",
        "\r\n",
        "# 리스트 합치기\r\n",
        "list3 = list2 + [16]\r\n",
        "print(list3)\r\n",
        "\r\n",
        "# 리스트에 값이 있는지 확인\r\n",
        "n = 12\r\n",
        "ownership = n in list3\r\n",
        "print(ownership)\r\n",
        "\r\n",
        "n = 10\r\n",
        "if n in list3:\r\n",
        "  print('{}은 있어!'.format(n))\r\n",
        "else:\r\n",
        "  print('{}은 없어...'.format(n))\r\n",
        "\r\n",
        "# 값 삭제(인덱스 지정)\r\n",
        "del list3[-1]\r\n",
        "print(list3)\r\n",
        "# 값 삭제(직접지움 처음 발견된 하나만 지움)\r\n",
        "list3.remove(16)\r\n",
        "print(list3)"
      ],
      "execution_count": 62,
      "outputs": [
        {
          "output_type": "stream",
          "text": [
            "['가위', '바위', '보']\n",
            "[1, 2, 3, 4, 5]\n",
            "['다른거', '바위', '보']\n",
            "보\n",
            "바위\n",
            "[1, 2, 3, 4, 5, 16]\n",
            "[1, 2, 3, 4, 5, 16, 16]\n",
            "False\n",
            "10은 없어...\n",
            "[1, 2, 3, 4, 5, 16]\n",
            "[1, 2, 3, 4, 5]\n"
          ],
          "name": "stdout"
        }
      ]
    },
    {
      "cell_type": "code",
      "metadata": {
        "id": "HEzdUZ4XTuiM"
      },
      "source": [
        "# 반복문\r\n",
        "patterns = ['가위', '바위', '보', '보', '가위', '반복']\r\n",
        "\r\n",
        "# 끝까지 반복\r\n",
        "for pattern in patterns:  \r\n",
        "  print(pattern)\r\n",
        "\r\n",
        "# 원하는 횟수만큼 반복\r\n",
        "for i in range(10): # range는 리스트와 비슷한 무언가를 만들어 낸다.\r\n",
        "  print(i)\r\n",
        "\r\n",
        "# 리스트의 길이만큼 반복\r\n",
        "for i in range(len(patterns)):\r\n",
        "  name = patterns[i]\r\n",
        "  print('{}번 {}'.format(i + 1, name))\r\n",
        "\r\n",
        "# enumerate는 두값을 다 받을수 있다.\r\n",
        "for i, name in enumerate(patterns):\r\n",
        "  print('{}번 {}'.format(i + 1, name))  \r\n"
      ],
      "execution_count": null,
      "outputs": []
    }
  ]
}