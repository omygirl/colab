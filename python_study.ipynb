{
  "nbformat": 4,
  "nbformat_minor": 0,
  "metadata": {
    "colab": {
      "name": "python_study.ipynb",
      "provenance": [],
      "authorship_tag": "ABX9TyOSM8g3PrY9PUWGdRC2FBJr",
      "include_colab_link": true
    },
    "kernelspec": {
      "name": "python3",
      "display_name": "Python 3"
    }
  },
  "cells": [
    {
      "cell_type": "markdown",
      "metadata": {
        "id": "view-in-github",
        "colab_type": "text"
      },
      "source": [
        "<a href=\"https://colab.research.google.com/github/omygirl/colab/blob/main/python_study.ipynb\" target=\"_parent\"><img src=\"https://colab.research.google.com/assets/colab-badge.svg\" alt=\"Open In Colab\"/></a>"
      ]
    },
    {
      "cell_type": "code",
      "metadata": {
        "id": "jYe6NnOa7Sdh"
      },
      "source": [
        "print(\"Hello, World!\")\r\n"
      ],
      "execution_count": null,
      "outputs": []
    },
    {
      "cell_type": "code",
      "metadata": {
        "id": "pvgGiBdPGmLv"
      },
      "source": [
        "# <- 한줄주석\r\n",
        "\r\n",
        "\"\"\"\r\n",
        "여러줄 주석\r\n",
        "\"\"\"\r\n",
        "\r\n",
        "identity='지구인'\r\n",
        "number_of_legs=4\r\n",
        "\r\n",
        "print('안녕! 나는 ', identity, '이야. 다리가 ', number_of_legs,'개야!')\r\n",
        "\r\n",
        "identity='한국인'\r\n",
        "number_of_legs=2\r\n",
        "\r\n",
        "print('안녕! 나는 ', identity, '이야. 다리가 ', number_of_legs,'개야!')"
      ],
      "execution_count": null,
      "outputs": []
    },
    {
      "cell_type": "code",
      "metadata": {
        "id": "B7Lwqh2vI5up"
      },
      "source": [
        "# 숫자와 문자열\r\n",
        "my_name = 'Python'  #문자열\r\n",
        "my_age = 25         #숫자\r\n",
        "print(my_name, '은 이제', my_age, '살')\r\n",
        "\r\n",
        "my_next_age = my_age + 1\r\n",
        "print('내년에는', my_next_age, '살')\r\n",
        "\r\n",
        "multiply = 9 * 8  # = 81 곱하기\r\n",
        "divide = 30 / 5 # 나누기\r\n",
        "power = 2 ** 10 # 제곱\r\n",
        "reminder = 15 % 4 # 나머지\r\n",
        "\r\n",
        "print(multiply, divide, power, reminder)\r\n",
        "\r\n",
        "text = '2021' + '1991'\r\n",
        "number = 2021 + 1991\r\n",
        "\r\n",
        "print(text)\r\n",
        "print(number)"
      ],
      "execution_count": null,
      "outputs": []
    },
    {
      "cell_type": "code",
      "metadata": {
        "id": "nXeRvMlpL6KA"
      },
      "source": [
        "# 조건문\r\n",
        "people = 2\r\n",
        "apple = 20\r\n",
        "if people < apple / 5:\r\n",
        "  print('신나는 사과 파티! 배터지게 먹자!')\r\n",
        "if apple % people > 0:\r\n",
        "  print('사과가 모자라! 나눠먹자')\r\n",
        "if people > apple:\r\n",
        "  print('사람이 너무 많아!')\r\n",
        "\r\n",
        "SCISSOR = '가위'\r\n",
        "ROCK = '바위'\r\n",
        "PAPER = '보'\r\n",
        "\r\n",
        "WIN = '이겼다!'\r\n",
        "DRAW = '비겼다.'\r\n",
        "LOSE = '졌다...'\r\n",
        "\r\n",
        "mine = '가위'\r\n",
        "yours = '바위'\r\n",
        "if mine == yours:\r\n",
        "  result = DRAW\r\n",
        "else:\r\n",
        "  if mine == SCISSOR:\r\n",
        "    if yours == ROCK:\r\n",
        "      result = LOSE\r\n",
        "    else:\r\n",
        "      result = WIN\r\n",
        "  else:\r\n",
        "    if mine == ROCK:\r\n",
        "      if yours == PAPER:\r\n",
        "        result = LOSE\r\n",
        "      else:\r\n",
        "        result = WIN\r\n",
        "    else:\r\n",
        "      if mine == PAPER:\r\n",
        "        if yours == SCISSOR:\r\n",
        "          result = LOSE\r\n",
        "        else:\r\n",
        "          result = WIN\r\n",
        "      else:\r\n",
        "        print('이상해요!!')\r\n",
        "\r\n",
        "print(result)\r\n",
        "\r\n",
        "#else와 if를 합친것은 elif\r\n",
        "if mine == yours:\r\n",
        "  result = DRAW\r\n",
        "else:\r\n",
        "  if mine == SCISSOR:\r\n",
        "    if yours == ROCK:\r\n",
        "      result = LOSE\r\n",
        "    else:\r\n",
        "      result = WIN\r\n",
        "  elif mine == ROCK:\r\n",
        "    if yours == PAPER:\r\n",
        "      result = LOSE\r\n",
        "    else:\r\n",
        "      result = WIN\r\n",
        "  elif mine == PAPER:\r\n",
        "      if yours == SCISSOR:\r\n",
        "        result = LOSE\r\n",
        "      else:\r\n",
        "        result = WIN\r\n",
        "  else:\r\n",
        "      print('이상해요!!')\r\n",
        "\r\n",
        "print(result)"
      ],
      "execution_count": null,
      "outputs": []
    },
    {
      "cell_type": "code",
      "metadata": {
        "id": "ewCQQeqZOt2X",
        "colab": {
          "base_uri": "https://localhost:8080/"
        },
        "outputId": "35267e00-cf5d-4ac9-9bc4-d39c933d0f22"
      },
      "source": [
        "# 블럭은 함께 실행되는 하나의 코드 덩어리\r\n",
        "if True:\r\n",
        "  print('블럭에 속한 코드')\r\n",
        "\r\n",
        "  if False:\r\n",
        "    print('한 줄 더(False)')\r\n",
        "\r\n",
        "  if True:\r\n",
        "    print('한 줄 더(True)')\r\n",
        "    if True:\r\n",
        "      print('한 줄 더(True) inner')\r\n",
        "\r\n",
        "  print('블럭 끝 코드')\r\n",
        "\r\n",
        "print('블럭 끝')\r\n",
        "\r\n",
        "# 한블럭이 다른블럭에 포함될 수 있다.\r\n",
        "\r\n",
        "if False:\r\n",
        "  print('조건이 안 맞는 코드')\r\n",
        "\r\n",
        "  if True:\r\n",
        "    print('조건이 맞는 코드')\r\n",
        "\r\n",
        "  print('어쨌튼 실행되지 않는 코드')\r\n",
        "\r\n",
        "print('다시 바깥에 있는 코드')  "
      ],
      "execution_count": null,
      "outputs": [
        {
          "output_type": "stream",
          "text": [
            "블럭에 속한 코드\n",
            "한 줄 더(True)\n",
            "한 줄 더(True) inner\n",
            "블럭 끝 코드\n",
            "블럭 끝\n",
            "다시 바깥에 있는 코드\n"
          ],
          "name": "stdout"
        }
      ]
    },
    {
      "cell_type": "code",
      "metadata": {
        "id": "5K5MHh0FtE-8"
      },
      "source": [
        "# 함수1\r\n",
        "\r\n",
        "# 근의 공식 a * x^2 + b * X + c = 0, a != 0 인 x에 관한 2차방정식에 대해,\r\n",
        "# 근의 공식은\r\n",
        "def print_sqrt():\r\n",
        "  r1 = (-b + (b ** 2 - 4 * a * c) ** 0.5) / (2 * a)\r\n",
        "  r2 = (-b - (b ** 2 - 4 * a * c) ** 0.5) / (2 * a)\r\n",
        "  print('해는 {} 또는 {}'.format(r1, r2))\r\n",
        "\r\n",
        "a = 1\r\n",
        "b = 2\r\n",
        "c = -8\r\n",
        "print_sqrt()"
      ],
      "execution_count": null,
      "outputs": []
    },
    {
      "cell_type": "code",
      "metadata": {
        "id": "IfcnS3_CF7nF"
      },
      "source": [
        "# 함수2 '():' 으로 만들수 있다.\r\n",
        "\r\n",
        "def function():\r\n",
        "  print(\"안녕, 함수\")\r\n",
        "\r\n",
        "function()"
      ],
      "execution_count": null,
      "outputs": []
    },
    {
      "cell_type": "code",
      "metadata": {
        "id": "HToz3dWGGx0L"
      },
      "source": [
        "# 매개변수\r\n",
        "def print_root(a, b, c):\r\n",
        "  r1 = (-b + (b ** 2 - 4 * a * c) ** 0.5) / (2 * a)\r\n",
        "  r2 = (-b - (b ** 2 - 4 * a * c) ** 0.5) / (2 * a)\r\n",
        "  print('해는 {} 또는 {}'.format(r1, r2))\r\n",
        "\r\n",
        "x = 1\r\n",
        "y = 2\r\n",
        "z = -8\r\n",
        "\r\n",
        "print_root(x, y, z)\r\n",
        "\r\n",
        "def print_round(number):\r\n",
        "  rounded = round(number)\r\n",
        "  print(rounded)\r\n",
        "\r\n",
        "print_round(4.6)"
      ],
      "execution_count": null,
      "outputs": []
    },
    {
      "cell_type": "code",
      "metadata": {
        "id": "DIKYeR21IZlS",
        "colab": {
          "base_uri": "https://localhost:8080/"
        },
        "outputId": "115483d2-1c4c-43fb-b9b0-68af83129256"
      },
      "source": [
        "# 함수\r\n",
        "def add_10(value):\r\n",
        "  result = value + 10\r\n",
        "  return result\r\n",
        "\r\n",
        "n = add_10(42)\r\n",
        "print(n)\r\n",
        "\r\n",
        "# 두값을 리턴하고 싶으면 쉼표로 구분후 리턴하면 됨\r\n",
        "def root(a, b, c):\r\n",
        "  r1 = (-b + (b ** 2 - 4 * a * c) ** 0.5) / (2 * a)\r\n",
        "  r2 = (-b - (b ** 2 - 4 * a * c) ** 0.5) / (2 * a)\r\n",
        "  \r\n",
        "  return r1, r2\r\n",
        "\r\n",
        "x = 1\r\n",
        "y = 2\r\n",
        "z = -8\r\n",
        "\r\n",
        "r1, r2 = root(x, y, z)\r\n",
        "print(\"근은 {} {}\".format(r1, r2))"
      ],
      "execution_count": null,
      "outputs": [
        {
          "output_type": "stream",
          "text": [
            "52\n",
            "근은 2.0 -4.0\n"
          ],
          "name": "stdout"
        }
      ]
    },
    {
      "cell_type": "code",
      "metadata": {
        "id": "ffkZkvVOJgCb",
        "colab": {
          "base_uri": "https://localhost:8080/"
        },
        "outputId": "494b6ec0-e905-4d57-f4e7-7d26b4462420"
      },
      "source": [
        "# 자료형\r\n",
        "number = 20\r\n",
        "greeting = \"안녕하세요\"\r\n",
        "place = \"문자열 포맷의 세계\"\r\n",
        "welcome = \"환영합니다\"\r\n",
        "\r\n",
        "base = \"{}번 손님, {}. {}에 온신것을 {}!\"\r\n",
        "new_way = base.format(number, greeting, place, welcome)\r\n",
        "\r\n",
        "print(new_way)"
      ],
      "execution_count": null,
      "outputs": [
        {
          "output_type": "stream",
          "text": [
            "20번 손님, 안녕하세요. 문자열 포맷의 세계에 온신것을 환영합니다!\n"
          ],
          "name": "stdout"
        }
      ]
    },
    {
      "cell_type": "code",
      "metadata": {
        "id": "iCebEieOMIfF",
        "colab": {
          "base_uri": "https://localhost:8080/"
        },
        "outputId": "c5627b27-c5fd-40ec-cd2a-82b894d969cd"
      },
      "source": [
        "# 긴글 문자열은 따옴표 3개 '''\r\n",
        "long_string = '''안녕하세요\r\n",
        "여려줄 따옴표입니다'''\r\n",
        "\r\n",
        "print(long_string)"
      ],
      "execution_count": null,
      "outputs": [
        {
          "output_type": "stream",
          "text": [
            "안녕하세요\n",
            "여려줄 따옴표입니다\n"
          ],
          "name": "stdout"
        }
      ]
    },
    {
      "cell_type": "code",
      "metadata": {
        "id": "iGywKpU8NOVy",
        "colab": {
          "base_uri": "https://localhost:8080/"
        },
        "outputId": "03bcec3f-42d1-4b2d-dd80-2ab8eb2bfe97"
      },
      "source": [
        "# 정수와 실수\r\n",
        "five1 = 5\r\n",
        "five2 = 5.0\r\n",
        "five3 = 5.00000\r\n",
        "\r\n",
        "print(five1)\r\n",
        "print(five2)\r\n",
        "print(five3)\r\n",
        "\r\n",
        "five4 = 5 * 1\r\n",
        "five5 = 5 * 1.0\r\n",
        "\r\n",
        "print(five4)\r\n",
        "print(five5)\r\n",
        "\r\n",
        "# 나눗셈\r\n",
        "div1 = 6 / 5    # div = 1.2\r\n",
        "div2 = 6 // 5   # div = 1\r\n",
        "print(div1)\r\n",
        "print(div2)\r\n",
        "\r\n",
        "print(int(5.0)) #정수로\r\n",
        "print(float(5)) # 부동소수점으로"
      ],
      "execution_count": null,
      "outputs": [
        {
          "output_type": "stream",
          "text": [
            "5\n",
            "5.0\n",
            "5.0\n",
            "5\n",
            "5.0\n",
            "1.2\n",
            "1\n",
            "5\n",
            "5.0\n"
          ],
          "name": "stdout"
        }
      ]
    },
    {
      "cell_type": "code",
      "metadata": {
        "id": "vEv_hf1UOh-b",
        "colab": {
          "base_uri": "https://localhost:8080/"
        },
        "outputId": "45803d89-1fcc-4886-fc12-7ded4c8e370e"
      },
      "source": [
        "# 사용자 입력 받기\r\n",
        "print(\"가위 바위 보 하나를 내주세요!\", end = '  ')\r\n",
        "mine = input()\r\n",
        "print(\"mine : {}\".format(mine))\r\n",
        "\r\n",
        "mine = input(\"이곳에서 텍스트를 입력할 수 있어요!\")\r\n",
        "print(\"mine : {}\".format(mine))\r\n",
        "\r\n",
        "# Ctrl + C로 프로그램 즉시 종료가능하다."
      ],
      "execution_count": null,
      "outputs": [
        {
          "output_type": "stream",
          "text": [
            "가위 바위 보 하나를 내주세요!  ㅇ\n",
            "mine : ㅇ\n",
            "이곳에서 텍스트를 입력할 수 있어요!ㅇ\n",
            "mine : ㅇ\n"
          ],
          "name": "stdout"
        }
      ]
    },
    {
      "cell_type": "code",
      "metadata": {
        "id": "OCKue2U2QjRR"
      },
      "source": [
        "# 리스트 사용\r\n",
        "list1 = ['가위', '바위', '보']\r\n",
        "list2 = [1, 2, 3, 4, 5, ]\r\n",
        "\r\n",
        "print(list1)\r\n",
        "print(list2)\r\n",
        "\r\n",
        "list1[0] = '다른거'\r\n",
        "print(list1)\r\n",
        "\r\n",
        "# 뒤에서부터 역으로 올수도 있다\r\n",
        "print(list1[-1])\r\n",
        "print(list1[-2])\r\n",
        "\r\n",
        "# 리스트의 활용\r\n",
        "# 리스트에 아이템 하나 더 넣는법\r\n",
        "list2.append(16)\r\n",
        "print(list2)\r\n",
        "\r\n",
        "# 리스트 합치기\r\n",
        "list3 = list2 + [16]\r\n",
        "print(list3)\r\n",
        "\r\n",
        "# 리스트에 값이 있는지 확인\r\n",
        "n = 12\r\n",
        "ownership = n in list3\r\n",
        "print(ownership)\r\n",
        "\r\n",
        "n = 10\r\n",
        "if n in list3:\r\n",
        "  print('{}은 있어!'.format(n))\r\n",
        "else:\r\n",
        "  print('{}은 없어...'.format(n))\r\n",
        "\r\n",
        "# 값 삭제(인덱스 지정)\r\n",
        "del list3[-1]\r\n",
        "print(list3)\r\n",
        "# 값 삭제(직접지움 처음 발견된 하나만 지움)\r\n",
        "list3.remove(16)\r\n",
        "print(list3)"
      ],
      "execution_count": null,
      "outputs": []
    },
    {
      "cell_type": "code",
      "metadata": {
        "id": "HEzdUZ4XTuiM"
      },
      "source": [
        "# 반복문\r\n",
        "patterns = ['가위', '바위', '보', '보', '가위', '반복']\r\n",
        "\r\n",
        "# 끝까지 반복\r\n",
        "for pattern in patterns:  \r\n",
        "  print(pattern)\r\n",
        "\r\n",
        "# 원하는 횟수만큼 반복\r\n",
        "for i in range(10): # range는 리스트와 비슷한 무언가를 만들어 낸다.\r\n",
        "  print(i)\r\n",
        "\r\n",
        "# 리스트의 길이만큼 반복\r\n",
        "for i in range(len(patterns)):\r\n",
        "  name = patterns[i]\r\n",
        "  print('{}번 {}'.format(i + 1, name))\r\n",
        "\r\n",
        "# enumerate는 두값을 다 받을수 있다.\r\n",
        "for i, name in enumerate(patterns):\r\n",
        "  print('{}번 {}'.format(i + 1, name))  \r\n"
      ],
      "execution_count": null,
      "outputs": []
    },
    {
      "cell_type": "code",
      "metadata": {
        "id": "7NlkMybvZWaC"
      },
      "source": [
        "# 모듈 사용하기\r\n",
        "import math   # 수학\r\n",
        "import random # 랜덤\r\n",
        "\r\n",
        "candidates = ['가위', '바위', '보']\r\n",
        "ma = math.pi;\r\n",
        "print(ma)\r\n",
        "\r\n",
        "# 랜덤\r\n",
        "selected = random.choice(candidates)\r\n",
        "print(selected)\r\n",
        "\r\n",
        "# URL을 넣으면 페이지 내용을 돌려주는 함수\r\n",
        "def get_web(url):\r\n",
        "  import urllib.request # url 데이터 가져옴\r\n",
        "  response = urllib.request.urlopen(url)\r\n",
        "  data = response.read()\r\n",
        "  decoded = data.decode('utf-8')\r\n",
        "  return decoded\r\n",
        "\r\n",
        "url = input('웹페이지 주소? ')\r\n",
        "content = get_web(url)\r\n",
        "print(content)\r\n",
        "\r\n"
      ],
      "execution_count": null,
      "outputs": []
    },
    {
      "cell_type": "code",
      "metadata": {
        "id": "jcvvVi97cED2"
      },
      "source": [
        "# 모듈 만들기 - 해당 모듈을 파일로 만들어서 import해서 사용하면 됨(변수도 추가해서 호출할 수 있음 모듈과 모듈을 사용할 파일이 같은곳에 있어야한다.)\r\n",
        "def random_rsp():\r\n",
        "  '''무작위 가위바위보를 낸다'''\r\n",
        "  import random\r\n",
        "  return random.choice(['가위', '바위', '보'])\r\n",
        "\r\n"
      ],
      "execution_count": null,
      "outputs": []
    },
    {
      "cell_type": "code",
      "metadata": {
        "id": "HWz8RVyxflj6",
        "colab": {
          "base_uri": "https://localhost:8080/"
        },
        "outputId": "b79286a6-5fee-4d8e-9a99-5b65c00e6db5"
      },
      "source": [
        "# 딕셔너리 만들기\r\n",
        "wintable = {\r\n",
        "    '가위':'보',    # 이름표 : 값\r\n",
        "    '바위':'가위',\r\n",
        "    '보':'바위'\r\n",
        "    }\r\n",
        "\r\n",
        "def rsp(mine, yours):\r\n",
        "  if min == yours:\r\n",
        "    return 'draw'\r\n",
        "  elif wintable[mine] == yours:\r\n",
        "    return 'win'\r\n",
        "  else:\r\n",
        "    return 'lose'\r\n",
        "\r\n",
        "result = rsp('가위', '바위')\r\n",
        "#print(result)\r\n",
        "messages = {\r\n",
        "    'win':'이겼다',\r\n",
        "    'draw':'비겼네.',\r\n",
        "    'lose':'졌어...'\r\n",
        "}\r\n",
        "\r\n",
        "print(messages[result])"
      ],
      "execution_count": null,
      "outputs": [
        {
          "output_type": "stream",
          "text": [
            "졌어...\n"
          ],
          "name": "stdout"
        }
      ]
    },
    {
      "cell_type": "code",
      "metadata": {
        "id": "MqaYfFxghYsE",
        "colab": {
          "base_uri": "https://localhost:8080/"
        },
        "outputId": "64ff59bb-08b5-4677-b3d1-a1a6e87f1c01"
      },
      "source": [
        "# 딕셔너리 수정 - 딕셔너리는 값을 추가할때 리스트처럼 append가 없다. 그냥 넣으면 됨\r\n",
        "list = [1, 2, 3, 4, 5,]\r\n",
        "dict = {\r\n",
        "    'one':1,\r\n",
        "    'two':2,\r\n",
        "}\r\n",
        "\r\n",
        "# 추가 및 수정\r\n",
        "list.append(6)\r\n",
        "\r\n",
        "dict['one'] = 11\r\n",
        "print(dict['one'])\r\n",
        "\r\n",
        "# 삭제\r\n",
        "list.pop(0) #pop은 값을 리턴해준다.\r\n",
        "dict.pop('two')\r\n",
        "print (dict)"
      ],
      "execution_count": null,
      "outputs": [
        {
          "output_type": "stream",
          "text": [
            "11\n",
            "{'one': 11}\n"
          ],
          "name": "stdout"
        }
      ]
    },
    {
      "cell_type": "code",
      "metadata": {
        "id": "_P2vreC9izJ-"
      },
      "source": [
        "# 딕셔너리 반복문\r\n",
        "ages = {'Tod':35, 'Jane':23, 'Paul':62, }\r\n",
        "\r\n",
        "for key in ages.keys():\r\n",
        "  print('{}의 나이는 {}입니다.'.format(key, ages[key]))\r\n",
        "\r\n",
        "for value in ages.values():\r\n",
        "  print(value)\r\n",
        "\r\n",
        "# 키와 밸류를 두개다 가져옴\r\n",
        "for key, value in ages.items():\r\n",
        "  print('{}의 나이는 {}입니다.'.format(key, value))\r\n",
        "\r\n",
        "# 삭제\r\n",
        "ages.clear()\r\n",
        "\r\n",
        "# 딕셔너리 합치기 - 리스트는 + 연산자로 합침\r\n",
        "dict1 = {1:100, 2:200, }\r\n",
        "dict2 = {1:1000, 3:300 }\r\n",
        "dict1.update(dict2)\r\n",
        "print(dict1)\r\n"
      ],
      "execution_count": null,
      "outputs": []
    },
    {
      "cell_type": "code",
      "metadata": {
        "id": "wKeX4EAhnJbh",
        "colab": {
          "base_uri": "https://localhost:8080/"
        },
        "outputId": "3009f5a2-e147-40cf-eb6f-f34c51fc45a2"
      },
      "source": [
        "# 튜플 - 한번 만들면 변경할 수 없음\r\n",
        "tuple1 = (1, 2, 3)\r\n",
        "type(tuple)\r\n",
        "\r\n",
        "tuple2 = (11, 22, 33)\r\n",
        "for i in range( len( tuple2) ):\r\n",
        "    print( tuple1[i] )\r\n",
        "\r\n",
        "# packing - 하나의 변수에 여러값을 넣는것, unpacking - 값을 빼오는것\r\n",
        "c = (3, 4)\r\n",
        "d, e = c\r\n",
        "\r\n",
        "x = 5\r\n",
        "y = 10\r\n",
        "\r\n",
        "# 값변경 방법\r\n",
        "x, y = y, x\r\n",
        "\r\n",
        "# 튜플값 리턴\r\n",
        "ages = {'Tod':35, 'Jane':23, 'Paul':62, }\r\n",
        "for a in ages.items():\r\n",
        "  print('{}의 나이는 {}입니다.'.format(*a)) # *을 이용하면 값을 나눌 수 있다."
      ],
      "execution_count": null,
      "outputs": [
        {
          "output_type": "stream",
          "text": [
            "1\n",
            "2\n",
            "3\n",
            "Tod의 나이는 35입니다.\n",
            "Jane의 나이는 23입니다.\n",
            "Paul의 나이는 62입니다.\n"
          ],
          "name": "stdout"
        }
      ]
    },
    {
      "cell_type": "code",
      "metadata": {
        "id": "80VxgUtEoTVS"
      },
      "source": [
        "# while문 쓰기\r\n",
        "selected = None # 아무것도 없다는 뜻\r\n",
        "while selected not in ['가위', '바위', '보']: # 포함되지 않았을 경우\r\n",
        "  selected = input('가위, 바위, 보 중에 선택하세요>')\r\n",
        "\r\n",
        "print('선택된 값은: ', selected)\r\n",
        "\r\n",
        "patterns = ['가위', '보', '보']\r\n",
        "length = len(patterns)\r\n",
        "i = 0\r\n",
        "while i < length:\r\n",
        "  print(patterns[i])\r\n",
        "  i = i + 1"
      ],
      "execution_count": null,
      "outputs": []
    },
    {
      "cell_type": "code",
      "metadata": {
        "id": "j_JVZwHlGn_e"
      },
      "source": [
        "# break, continue\r\n",
        "\r\n",
        "list = [1, 2, 3, 4, 5, 6, 7, 8, 9, 10]\r\n",
        "for i in list:\r\n",
        "  if i % 3 == 0:\r\n",
        "    print(i)\r\n",
        "    break\r\n",
        "\r\n",
        "for i in range(10):\r\n",
        "  if i % 2 == 0:\r\n",
        "    continue\r\n",
        "\r\n",
        "  print(i)\r\n"
      ],
      "execution_count": null,
      "outputs": []
    },
    {
      "cell_type": "code",
      "metadata": {
        "id": "caA1pbvVInNe"
      },
      "source": [
        "# try except 예외처리\r\n",
        "text = '100%'\r\n",
        "try:\r\n",
        "  number = int(text)\r\n",
        "except ValueError:\r\n",
        "  print('{}는 숫자가 아니네요'.format(text))\r\n",
        "\r\n",
        "def safe_pop_print(list, index):\r\n",
        "  try:\r\n",
        "    print(list.pop(index))\r\n",
        "  except IndexError:\r\n",
        "    print('{} index의 값을 가져올 수 없습니다'.format(index))\r\n",
        "\r\n",
        "safe_pop_print([1, 2, 3], 5)\r\n",
        "\r\n",
        "try:\r\n",
        "  import my_module\r\n",
        "except Exception as ex: # 에러를 받아서 출력함\r\n",
        "  print('에러가 발생했습니다 ', ex)"
      ],
      "execution_count": null,
      "outputs": []
    },
    {
      "cell_type": "code",
      "metadata": {
        "id": "mG0BR_mcK7AJ",
        "colab": {
          "base_uri": "https://localhost:8080/"
        },
        "outputId": "55c463d6-dc6d-4aae-ef3a-331c8d754851"
      },
      "source": [
        "# raise 강제 에러발생\r\n",
        "def rsp(mine, yours):\r\n",
        "  allowed = ['가위', '바위', '보']\r\n",
        "  if mine not in allowed:\r\n",
        "    raise ValueError\r\n",
        "\r\n",
        "  if yours not in allowed:\r\n",
        "    raise ValueError\r\n",
        "  # 가위바위보 승패를 판단하는 코드\r\n",
        "\r\n",
        "try:\r\n",
        "  rsp('가위', '바')\r\n",
        "except ValueError:\r\n",
        "  print('잘못된 값을 넣은것 같습니다.')\r\n"
      ],
      "execution_count": null,
      "outputs": [
        {
          "output_type": "stream",
          "text": [
            "잘못된 값을 넣은것 같습니다.\n"
          ],
          "name": "stdout"
        }
      ]
    },
    {
      "cell_type": "code",
      "metadata": {
        "id": "2v7OEGaZOTfT",
        "colab": {
          "base_uri": "https://localhost:8080/"
        },
        "outputId": "6f2295e0-b2f6-4d4a-f122-9830e8056d13"
      },
      "source": [
        "# 논리연산 더 알아보기\r\n",
        "def return_false():\r\n",
        "  return False\r\n",
        "\r\n",
        "def return_true():\r\n",
        "  return True\r\n",
        "\r\n",
        "if return_false() and return_true():\r\n",
        "  print('True')\r\n",
        "else:\r\n",
        "  print(False)"
      ],
      "execution_count": null,
      "outputs": [
        {
          "output_type": "stream",
          "text": [
            "False\n"
          ],
          "name": "stdout"
        }
      ]
    },
    {
      "cell_type": "code",
      "metadata": {
        "id": "LEta5cI7VygM",
        "colab": {
          "base_uri": "https://localhost:8080/"
        },
        "outputId": "49d66481-e31b-4a2d-c93c-6a482e03bb6f"
      },
      "source": [
        "# List의 다양한 기능\r\n",
        "list1 = [1, 2, 3, 4, 5, 6, ]\r\n",
        "\r\n",
        "if list1.index(5):\r\n",
        "  list1.index(5)\r\n",
        "\r\n",
        "print(list1.index(5))\r\n",
        "\r\n",
        "# 리스트 합치기\r\n",
        "list2 = [1, 2, 3] + [4, 5, 6]\r\n",
        "list2.extend([7, 8, 9, 10])\r\n",
        "\r\n",
        "# insert는 첫번째 위치에 두번째 값을 넣는다.\r\n",
        "list2.insert(2, 999)\r\n",
        "list2.insert(-1, 999) # 뒤에서부터 역으로 삽입\r\n",
        "\r\n",
        "#sort\r\n",
        "list2.sort()\r\n",
        "\r\n",
        "#reverse\r\n",
        "list2.reverse()\r\n",
        "\r\n",
        "#join\r\n",
        "\r\n",
        "str = \"오늘은 날씨가 흐림\"\r\n",
        "\r\n",
        "# split()을 이용해서 str을 공백으로 나눈 문자열을 words에 저장하세요\r\n",
        "words = str.split()\r\n",
        "\r\n",
        "\r\n",
        "# index()를 이용해서 \"흐림\"이 words의 몇번째에 있는지 찾고, \r\n",
        "# position에 저장하세요.\r\n",
        "position = words.index('흐림')\r\n",
        "\r\n",
        "\r\n",
        "words[position] = \"맑음\"\r\n",
        "\r\n",
        "# join()을 이용해서 words를 다시 문자열로 바꿔 new_str에 저장하세요. \r\n",
        "# words를 문자열로 바꿀때는 공백 한 칸을 기준으로 붙이면 됩니다.\r\n",
        "new_str = \" \".join(words)\r\n",
        "\r\n",
        "\r\n",
        "print(new_str)"
      ],
      "execution_count": null,
      "outputs": [
        {
          "output_type": "stream",
          "text": [
            "4\n",
            "오늘은 날씨가 맑음\n"
          ],
          "name": "stdout"
        }
      ]
    },
    {
      "cell_type": "code",
      "metadata": {
        "id": "uzPcp9-iZPEG",
        "colab": {
          "base_uri": "https://localhost:8080/"
        },
        "outputId": "049565ee-0005-42ad-bfb2-48b8268fd6f2"
      },
      "source": [
        "# Slice\r\n",
        "text = 'hello world'\r\n",
        "text[1:5] #첫번째 인덱스부터 두번째 인덱스 앞까지 가져옴\r\n",
        "text[0:len(text)]\r\n",
        "\r\n",
        "# step 기능(건너 뛰면서 값을 가져온다)\r\n",
        "list1 = [0, 1, 2, 3, 4, 5, 6, 7, 8, 9, 10]\r\n",
        "list1[0:len(list1):2]\r\n",
        "\r\n",
        "# 삭제\r\n",
        "del list1[:5] # 처음부터 5번째 까지 삭제\r\n",
        "\r\n",
        "# 값 변경\r\n",
        "list1[1:3] = [77, 88]\r\n",
        "list1"
      ],
      "execution_count": null,
      "outputs": [
        {
          "output_type": "execute_result",
          "data": {
            "text/plain": [
              "[5, 77, 88, 8, 9, 10]"
            ]
          },
          "metadata": {
            "tags": []
          },
          "execution_count": 41
        }
      ]
    },
    {
      "cell_type": "code",
      "metadata": {
        "id": "lVvC5ATgXhbR",
        "outputId": "d92df529-5bf4-4fb3-8436-945d531d553d",
        "colab": {
          "base_uri": "https://localhost:8080/"
        }
      },
      "source": [
        "# 자료형\r\n",
        "s = 'Hello World'\r\n",
        "print(type(s))\r\n",
        "\r\n",
        "f = 3.14\r\n",
        "print(type(f))\r\n",
        "\r\n",
        "i = 42\r\n",
        "print(type(i))\r\n",
        "\r\n",
        "# 자료형을 검사해주는 함수\r\n",
        "isInt = isinstance(42, int)\r\n",
        "print(isInt)"
      ],
      "execution_count": 5,
      "outputs": [
        {
          "output_type": "stream",
          "text": [
            "<class 'str'>\n",
            "<class 'float'>\n",
            "<class 'int'>\n",
            "True\n"
          ],
          "name": "stdout"
        }
      ]
    },
    {
      "cell_type": "code",
      "metadata": {
        "id": "f4O6N13rYbgM"
      },
      "source": [
        "# 인스턴스 이해\r\n",
        "# 인스턴스는 각각의 사람(하성민, 김연지등)이다.\r\n"
      ],
      "execution_count": null,
      "outputs": []
    },
    {
      "cell_type": "code",
      "metadata": {
        "id": "KrlPiMzDZzQV",
        "outputId": "919ac174-e357-47a0-b761-6ebf21f0161c",
        "colab": {
          "base_uri": "https://localhost:8080/"
        }
      },
      "source": [
        "# 클래스 만들기\r\n",
        "class Human():\r\n",
        "  '사람'\r\n",
        "\r\n",
        "person1 = Human()\r\n",
        "person2 = Human()\r\n",
        "\r\n",
        "person1.language = '한국어'\r\n",
        "person2.language = 'English'\r\n",
        "\r\n",
        "# print(person1.language)\r\n",
        "# print(person2.language)\r\n",
        "\r\n",
        "person1.name = '서울시민'\r\n",
        "person2.name = '인도인'\r\n",
        "\r\n",
        "def speak(person):\r\n",
        "  print('{}이 {}로 말을 합니다.'.format(person.name, person.language))\r\n",
        "\r\n",
        "# print(speak(person1))  \r\n",
        "# print(speak(person2))  \r\n",
        "\r\n",
        "# 클래스에 함수도 넣을수있다.\r\n",
        "Human.speak = speak\r\n",
        "person1.speak()\r\n",
        "person2.speak()"
      ],
      "execution_count": 12,
      "outputs": [
        {
          "output_type": "stream",
          "text": [
            "서울시민이 한국어로 말을 합니다.\n",
            "인도인이 English로 말을 합니다.\n"
          ],
          "name": "stdout"
        }
      ]
    },
    {
      "cell_type": "code",
      "metadata": {
        "id": "ua9Bj8H8cEza",
        "outputId": "0be88018-9f29-4f33-a367-4585b41fc1f8",
        "colab": {
          "base_uri": "https://localhost:8080/"
        }
      },
      "source": [
        "# 클래스 모델링\r\n",
        "class Human():\r\n",
        "  '인간'\r\n",
        "  def __init__(self, name, weight): # __ 로 감싸면 특수한 함수라는 뜻\r\n",
        "    '초기화 함수'\r\n",
        "    print('__init__실행')\r\n",
        "    self.name = name\r\n",
        "    self.weight = weight\r\n",
        "\r\n",
        "  def __str__(self):\r\n",
        "    '문자열화 함수'\r\n",
        "    return '{} 몸무게{}kg'.format(self.name, self.weight)\r\n",
        "\r\n",
        "  def create(name, weight):\r\n",
        "    person = Human()\r\n",
        "    person.name = name\r\n",
        "    person.weight = weight\r\n",
        "    return person\r\n",
        "\r\n",
        "  def eat(self):\r\n",
        "    self.weight += 0.1\r\n",
        "    print('{}가 먹어서{}kg이 되었습니다'.format(self.name, self.weight))\r\n",
        "\r\n",
        "  def walk(self):\r\n",
        "    self.weight -= 0.1\r\n",
        "    print('{}가 걸어서{}kg이 되었습니다'.format(self.name, self.weight))      \r\n",
        "\r\n",
        "  def speak(self, message):\r\n",
        "    print(message)\r\n",
        "\r\n",
        "# person = Human.create('철수', 60.5)\r\n",
        "# person.walk()\r\n",
        "# person.eat()\r\n",
        "# person.walk()\r\n",
        "\r\n",
        "# person.speak('안녕하세요')\r\n",
        "\r\n",
        "person = Human('사람', 60.5)  # 생성시 매개변수를 넘겨줄 수 있다.\r\n",
        "print(person.name)\r\n",
        "print(person.weight)\r\n",
        "\r\n",
        "print(person) # Human 클래스를 스트링으로 표현할때 사용\r\n"
      ],
      "execution_count": 20,
      "outputs": [
        {
          "output_type": "stream",
          "text": [
            "__init__실행\n",
            "사람\n",
            "60.5\n",
            "사람 몸무게60.5kg\n"
          ],
          "name": "stdout"
        }
      ]
    },
    {
      "cell_type": "code",
      "metadata": {
        "id": "QaDb-Ut-hkfm"
      },
      "source": [
        "# 클래스 상속\r\n",
        "class Animal():\r\n",
        "  def walk(self):\r\n",
        "    print('걷는다')\r\n",
        "\r\n",
        "  def eat(self):\r\n",
        "    print('먹는다')\r\n",
        "\r\n",
        "  # 재정의해서 사용하면 오버라이딩된다.\r\n",
        "  def greet(self):\r\n",
        "    print('인사한다')\r\n",
        "\r\n",
        "class Human(Animal):  # 상속 - 클래스의 괄호안에 클래스를 넣으면됨\r\n",
        "  def wave(self):\r\n",
        "    print('손을 흔든다')\r\n",
        "\r\n",
        "  def greet(self):\r\n",
        "    self.wave()\r\n",
        "\r\n",
        "class Dog(Animal):  # 상속\r\n",
        "  def wag(self):\r\n",
        "    print('꼬리를 흔든다')    \r\n",
        "\r\n",
        "def greet(self):\r\n",
        "    self.wag()\r\n",
        "\r\n",
        "person = Human()\r\n",
        "person.walk()\r\n",
        "person.eat()\r\n",
        "person.wave()\r\n",
        "person.greet()\r\n",
        "\r\n",
        "dog = Dog()\r\n",
        "dog.walk()\r\n",
        "dog.eat()\r\n",
        "dog.wag()\r\n",
        "dog.greet()"
      ],
      "execution_count": null,
      "outputs": []
    },
    {
      "cell_type": "code",
      "metadata": {
        "id": "d4kBl6t6khZ2",
        "outputId": "42fba0d1-eb84-4651-da19-3e1ce57d310b",
        "colab": {
          "base_uri": "https://localhost:8080/"
        }
      },
      "source": [
        "# super\r\n",
        "class Animal():\r\n",
        "  def __init__(self, name):\r\n",
        "    self.name = name\r\n",
        "\r\n",
        "  def walk(self):\r\n",
        "    print('걷는다')\r\n",
        "\r\n",
        "  def eat(self):\r\n",
        "    print('먹는다')\r\n",
        "\r\n",
        "  def greet(self):\r\n",
        "    print('{}이/가 인사한다'.format(self.name))\r\n",
        "\r\n",
        "class Human(Animal):\r\n",
        "  def __init__(self, name, hand):\r\n",
        "    super().__init__(name)\r\n",
        "    self.hand = hand\r\n",
        "\r\n",
        "  def wave(self):\r\n",
        "    print('{}을 흔들면서'.format(self.hand))\r\n",
        "\r\n",
        "  def greet(self):\r\n",
        "    self.wave()\r\n",
        "    super().greet()   # 부모 클래스에 있는것을 사용할 수 있다.\r\n",
        "\r\n",
        "person = Human(\"사람\", \"오른손\")\r\n",
        "person.greet()\r\n",
        "\r\n",
        "\r\n"
      ],
      "execution_count": 35,
      "outputs": [
        {
          "output_type": "stream",
          "text": [
            "오른손을 흔들면서\n",
            "사람이/가 인사한다\n"
          ],
          "name": "stdout"
        }
      ]
    },
    {
      "cell_type": "code",
      "metadata": {
        "id": "FZ3xUQuUqtEI",
        "outputId": "5ed8c4ea-5778-41bc-b9c8-c15a0bd39c15",
        "colab": {
          "base_uri": "https://localhost:8080/"
        }
      },
      "source": [
        "# List\r\n",
        "areas = []\r\n",
        "for i in range(1, 11):\r\n",
        "  if i % 2== 0:\r\n",
        "    areas = areas + [i * i]\r\n",
        "\r\n",
        "print('areas:', areas)\r\n",
        "\r\n",
        "areas2 = [i*i for i in range(1, 11) if i % 2 == 0]\r\n",
        "print('areas2:', areas2)"
      ],
      "execution_count": 36,
      "outputs": [
        {
          "output_type": "stream",
          "text": [
            "areas: [4, 16, 36, 64, 100]\n",
            "areas2: [4, 16, 36, 64, 100]\n"
          ],
          "name": "stdout"
        }
      ]
    },
    {
      "cell_type": "code",
      "metadata": {
        "id": "1AZrxyafsUXm",
        "outputId": "079cd0fd-b815-437f-993e-47a4b7c323b6",
        "colab": {
          "base_uri": "https://localhost:8080/"
        }
      },
      "source": [
        "# Dictionary\r\n",
        "students = {'태연', '정우', '정현'}\r\n",
        "students_dict = { '{}번'.format(number + 1): name for number, name in enumerate(students) }\r\n",
        "print(students_dict)\r\n",
        "\r\n",
        "scores = [85, 92, 78, 90, 100]\r\n",
        "for x, y in zip(students, scores):\r\n",
        "  print(x, y)\r\n",
        "\r\n",
        "score_dic = { student : score for student, score in zip(students, scores) }\r\n",
        "print(score_dic)"
      ],
      "execution_count": 43,
      "outputs": [
        {
          "output_type": "stream",
          "text": [
            "{'1번': '정현', '2번': '태연', '3번': '정우'}\n",
            "정현 85\n",
            "태연 92\n",
            "정우 78\n",
            "{'정현': 85, '태연': 92, '정우': 78}\n"
          ],
          "name": "stdout"
        }
      ]
    },
    {
      "cell_type": "code",
      "metadata": {
        "id": "90IR7MOSuXGm",
        "outputId": "e22d0e12-3310-4092-d1bb-b53be582e50e",
        "colab": {
          "base_uri": "https://localhost:8080/"
        }
      },
      "source": [
        "# datetime\r\n",
        "# datetime 클래스와 timedelta 클래스는 서로 연산이 가능하다\r\n",
        "import datetime\r\n",
        "\r\n",
        "start_time = datetime.datetime.now()\r\n",
        "print(type(start_time))\r\n",
        "\r\n",
        "start_time = start_time.replace(year = 2022, month = 12, day = 16)\r\n",
        "print(start_time)\r\n",
        "\r\n",
        "start_time = datetime.datetime(2022, 1, 1)\r\n",
        "print(start_time)\r\n",
        "\r\n",
        "how_long = start_time - datetime.datetime.now()\r\n",
        "print('{}일 {}시간 남았습니다'.format(how_long.days, how_long.seconds // 3600))\r\n",
        "\r\n",
        "hundred = datetime.timedelta(days = 100)    # 양수면 앞으로의 값, 음수면 이전값\r\n",
        "hundred_before = datetime.timedelta(days = -100)\r\n",
        "datetime.datetime.now() + hundred\r\n",
        "\r\n",
        "tomorrow = datetime.datetime.now().replace(hour = 9, minute = 0, second = 0) + datetime.timedelta(days = 1)\r\n",
        "print(tomorrow)\r\n"
      ],
      "execution_count": 55,
      "outputs": [
        {
          "output_type": "stream",
          "text": [
            "<class 'datetime.datetime'>\n",
            "2022-12-16 17:20:54.325146\n",
            "2022-01-01 00:00:00\n",
            "332일 6시간 남았습니다\n",
            "2021-02-03 09:00:00.327682\n"
          ],
          "name": "stdout"
        }
      ]
    }
  ]
}