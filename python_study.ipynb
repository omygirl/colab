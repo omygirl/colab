{
  "nbformat": 4,
  "nbformat_minor": 0,
  "metadata": {
    "colab": {
      "name": "python_study.ipynb",
      "provenance": [],
      "authorship_tag": "ABX9TyN1jPsCjVkWEnERohHLhRdg",
      "include_colab_link": true
    },
    "kernelspec": {
      "name": "python3",
      "display_name": "Python 3"
    }
  },
  "cells": [
    {
      "cell_type": "markdown",
      "metadata": {
        "id": "view-in-github",
        "colab_type": "text"
      },
      "source": [
        "<a href=\"https://colab.research.google.com/github/omygirl/colab/blob/main/python_study.ipynb\" target=\"_parent\"><img src=\"https://colab.research.google.com/assets/colab-badge.svg\" alt=\"Open In Colab\"/></a>"
      ]
    },
    {
      "cell_type": "code",
      "metadata": {
        "id": "jYe6NnOa7Sdh"
      },
      "source": [
        "print(\"Hello, World!\")\r\n"
      ],
      "execution_count": null,
      "outputs": []
    },
    {
      "cell_type": "code",
      "metadata": {
        "id": "pvgGiBdPGmLv"
      },
      "source": [
        "# <- 한줄주석\r\n",
        "\r\n",
        "\"\"\"\r\n",
        "여러줄 주석\r\n",
        "\"\"\"\r\n",
        "\r\n",
        "identity='지구인'\r\n",
        "number_of_legs=4\r\n",
        "\r\n",
        "print('안녕! 나는 ', identity, '이야. 다리가 ', number_of_legs,'개야!')\r\n",
        "\r\n",
        "identity='한국인'\r\n",
        "number_of_legs=2\r\n",
        "\r\n",
        "print('안녕! 나는 ', identity, '이야. 다리가 ', number_of_legs,'개야!')"
      ],
      "execution_count": null,
      "outputs": []
    },
    {
      "cell_type": "code",
      "metadata": {
        "colab": {
          "base_uri": "https://localhost:8080/"
        },
        "id": "B7Lwqh2vI5up",
        "outputId": "df422854-314e-466f-db4d-3cc0601b15f6"
      },
      "source": [
        "# 숫자와 문자열\r\n",
        "my_name = 'Python'  #문자열\r\n",
        "my_age = 25         #숫자\r\n",
        "print(my_name, '은 이제', my_age, '살')\r\n",
        "\r\n",
        "my_next_age = my_age + 1\r\n",
        "print('내년에는', my_next_age, '살')\r\n",
        "\r\n",
        "multiply = 9 * 8  # = 81 곱하기\r\n",
        "divide = 30 / 5 # 나누기\r\n",
        "power = 2 ** 10 # 제곱\r\n",
        "reminder = 15 % 4 # 나머지\r\n",
        "\r\n",
        "print(multiply, divide, power, reminder)\r\n",
        "\r\n",
        "text = '2021' + '1991'\r\n",
        "number = 2021 + 1991\r\n",
        "\r\n",
        "print(text)\r\n",
        "print(number)"
      ],
      "execution_count": 18,
      "outputs": [
        {
          "output_type": "stream",
          "text": [
            "Python 은 이제 25 살\n",
            "내년에는 26 살\n",
            "72 6.0 1024 3\n",
            "20211991\n",
            "4012\n"
          ],
          "name": "stdout"
        }
      ]
    },
    {
      "cell_type": "code",
      "metadata": {
        "id": "nXeRvMlpL6KA"
      },
      "source": [
        "# 조건문\r\n",
        "people = 2\r\n",
        "apple = 20\r\n",
        "if people < apple / 5:\r\n",
        "  print('신나는 사과 파티! 배터지게 먹자!')\r\n",
        "if apple % people > 0:\r\n",
        "  print('사과가 모자라! 나눠먹자')\r\n",
        "if people > apple:\r\n",
        "  print('사람이 너무 많아!')\r\n",
        "\r\n",
        "SCISSOR = '가위'\r\n",
        "ROCK = '바위'\r\n",
        "PAPER = '보'\r\n",
        "\r\n",
        "WIN = '이겼다!'\r\n",
        "DRAW = '비겼다.'\r\n",
        "LOSE = '졌다...'\r\n",
        "\r\n",
        "mine = '가위'\r\n",
        "yours = '바위'\r\n",
        "if mine == yours:\r\n",
        "  result = DRAW\r\n",
        "else:\r\n",
        "  if mine == SCISSOR:\r\n",
        "    if yours == ROCK:\r\n",
        "      result = LOSE\r\n",
        "    else:\r\n",
        "      result = WIN\r\n",
        "  else:\r\n",
        "    if mine == ROCK:\r\n",
        "      if yours == PAPER:\r\n",
        "        result = LOSE\r\n",
        "      else:\r\n",
        "        result = WIN\r\n",
        "    else:\r\n",
        "      if mine == PAPER:\r\n",
        "        if yours == SCISSOR:\r\n",
        "          result = LOSE\r\n",
        "        else:\r\n",
        "          result = WIN\r\n",
        "      else:\r\n",
        "        print('이상해요!!')\r\n",
        "\r\n",
        "print(result)\r\n",
        "\r\n",
        "#else와 if를 합친것은 elif\r\n",
        "if mine == yours:\r\n",
        "  result = DRAW\r\n",
        "else:\r\n",
        "  if mine == SCISSOR:\r\n",
        "    if yours == ROCK:\r\n",
        "      result = LOSE\r\n",
        "    else:\r\n",
        "      result = WIN\r\n",
        "  elif mine == ROCK:\r\n",
        "    if yours == PAPER:\r\n",
        "      result = LOSE\r\n",
        "    else:\r\n",
        "      result = WIN\r\n",
        "  elif mine == PAPER:\r\n",
        "      if yours == SCISSOR:\r\n",
        "        result = LOSE\r\n",
        "      else:\r\n",
        "        result = WIN\r\n",
        "  else:\r\n",
        "      print('이상해요!!')\r\n",
        "\r\n",
        "print(result)"
      ],
      "execution_count": null,
      "outputs": []
    },
    {
      "cell_type": "code",
      "metadata": {
        "id": "ewCQQeqZOt2X"
      },
      "source": [
        "# 블럭은 함께 실행되는 하나의 코드 덩어리\r\n",
        "if True:\r\n",
        "  print('블럭에 속한 코드')\r\n",
        "\r\n",
        "  if False:\r\n",
        "    print('한 줄 더(False)')\r\n",
        "\r\n",
        "  if True:\r\n",
        "    print('한 줄 더(True)')\r\n",
        "    if True:\r\n",
        "      print('한 줄 더(True) inner')\r\n",
        "\r\n",
        "  print('블럭 끝 코드')\r\n",
        "\r\n",
        "print('블럭 끝')\r\n",
        "\r\n",
        "# 한블럭이 다른블럭에 포함될 수 있다.\r\n",
        "\r\n",
        "if False:\r\n",
        "  print('조건이 안 맞는 코드')\r\n",
        "\r\n",
        "  if True:\r\n",
        "    print('조건이 맞는 코드')\r\n",
        "\r\n",
        "  print('어쨌튼 실행되지 않는 코드')\r\n",
        "\r\n",
        "print('다시 바깥에 있는 코드')  "
      ],
      "execution_count": null,
      "outputs": []
    }
  ]
}