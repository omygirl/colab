{
  "nbformat": 4,
  "nbformat_minor": 0,
  "metadata": {
    "colab": {
      "name": "python_study.ipynb",
      "provenance": [],
      "authorship_tag": "ABX9TyO3sG9Ym0FULGwEFbi4990i",
      "include_colab_link": true
    },
    "kernelspec": {
      "name": "python3",
      "display_name": "Python 3"
    }
  },
  "cells": [
    {
      "cell_type": "markdown",
      "metadata": {
        "id": "view-in-github",
        "colab_type": "text"
      },
      "source": [
        "<a href=\"https://colab.research.google.com/github/omygirl/colab/blob/main/python_study.ipynb\" target=\"_parent\"><img src=\"https://colab.research.google.com/assets/colab-badge.svg\" alt=\"Open In Colab\"/></a>"
      ]
    },
    {
      "cell_type": "code",
      "metadata": {
        "colab": {
          "base_uri": "https://localhost:8080/"
        },
        "id": "jYe6NnOa7Sdh",
        "outputId": "8ce7a79f-d2de-47ab-c820-56eb7f435c64"
      },
      "source": [
        "print(\"Hello, World!\")\r\n"
      ],
      "execution_count": null,
      "outputs": [
        {
          "output_type": "stream",
          "text": [
            "Hello, World!\n"
          ],
          "name": "stdout"
        }
      ]
    },
    {
      "cell_type": "code",
      "metadata": {
        "colab": {
          "base_uri": "https://localhost:8080/"
        },
        "id": "pvgGiBdPGmLv",
        "outputId": "58440bd5-d58b-42e2-83f9-9cc2638da854"
      },
      "source": [
        "# <- 한줄주석\r\n",
        "\r\n",
        "\"\"\"\r\n",
        "여러줄 주석\r\n",
        "\"\"\"\r\n",
        "\r\n",
        "identity='지구인'\r\n",
        "number_of_legs=4\r\n",
        "\r\n",
        "print('안녕! 나는 ', identity, '이야. 다리가 ', number_of_legs,'개야!')\r\n",
        "\r\n",
        "identity='한국인'\r\n",
        "number_of_legs=2\r\n",
        "\r\n",
        "print('안녕! 나는 ', identity, '이야. 다리가 ', number_of_legs,'개야!')"
      ],
      "execution_count": 11,
      "outputs": [
        {
          "output_type": "stream",
          "text": [
            "안녕! 나는  지구인 이야. 다리가  4 개야!\n",
            "안녕! 나는  한국인 이야. 다리가  2 개야!\n"
          ],
          "name": "stdout"
        }
      ]
    },
    {
      "cell_type": "code",
      "metadata": {
        "id": "B7Lwqh2vI5up"
      },
      "source": [
        "# 숫자와 문자열\r\n",
        "my_name = 'Python'  #문자열\r\n",
        "my_age = 25         #숫자\r\n",
        "print(my_name, '은 이제', my_age, '살')\r\n",
        "\r\n",
        "my_next_age = my_age + 1\r\n",
        "print('내년에는', my_next_age, '살')\r\n",
        "\r\n",
        "multiply = 9 * 8  # = 81 곱하기\r\n",
        "divide = 30 / 5 # 나누기\r\n",
        "power = 2 ** 10 # 제곱\r\n",
        "reminder = 15 % 4 # 나머지\r\n",
        "\r\n",
        "print(multiply, divide, power, reminder)\r\n",
        "\r\n",
        "text = '2021' + '1991'\r\n",
        "number = 2021 + 1991\r\n",
        "\r\n",
        "print(text)\r\n",
        "print(number)"
      ],
      "execution_count": null,
      "outputs": []
    }
  ]
}